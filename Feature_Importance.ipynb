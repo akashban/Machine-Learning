{
 "cells": [
  {
   "cell_type": "markdown",
   "id": "c65f1ecf",
   "metadata": {},
   "source": [
    "## Random Forest Classfier\n",
    "References: \n",
    "\n",
    "1. https://www.geeksforgeeks.org/random-forest-classifier-using-scikit-learn/\n",
    "2. https://towardsdatascience.com/understanding-random-forest-58381e0602d2"
   ]
  },
  {
   "cell_type": "markdown",
   "id": "ca374a19",
   "metadata": {},
   "source": [
    "Data: Iris Flower Dataset\n",
    "Samples: 150\n",
    "Number of flowers: 3\n",
    "Features: 4\n",
    "\n",
    "The features are petal length, petal width, sepal length and sepal width\n",
    "\n",
    "Problem: Which feature is best for classifying the dataset?\n"
   ]
  },
  {
   "cell_type": "markdown",
   "id": "b768d6e2",
   "metadata": {},
   "source": [
    "## Let's see how the features are distributed"
   ]
  },
  {
   "cell_type": "code",
   "execution_count": 3,
   "id": "396f803e",
   "metadata": {},
   "outputs": [
    {
     "name": "stderr",
     "output_type": "stream",
     "text": [
      "/home/polo/.local/lib/python3.8/site-packages/seaborn/distributions.py:2557: FutureWarning: `distplot` is a deprecated function and will be removed in a future version. Please adapt your code to use either `displot` (a figure-level function with similar flexibility) or `histplot` (an axes-level function for histograms).\n",
      "  warnings.warn(msg, FutureWarning)\n",
      "/home/polo/.local/lib/python3.8/site-packages/seaborn/distributions.py:2557: FutureWarning: `distplot` is a deprecated function and will be removed in a future version. Please adapt your code to use either `displot` (a figure-level function with similar flexibility) or `histplot` (an axes-level function for histograms).\n",
      "  warnings.warn(msg, FutureWarning)\n",
      "/home/polo/.local/lib/python3.8/site-packages/seaborn/distributions.py:2557: FutureWarning: `distplot` is a deprecated function and will be removed in a future version. Please adapt your code to use either `displot` (a figure-level function with similar flexibility) or `histplot` (an axes-level function for histograms).\n",
      "  warnings.warn(msg, FutureWarning)\n",
      "/home/polo/.local/lib/python3.8/site-packages/seaborn/distributions.py:2557: FutureWarning: `distplot` is a deprecated function and will be removed in a future version. Please adapt your code to use either `displot` (a figure-level function with similar flexibility) or `histplot` (an axes-level function for histograms).\n",
      "  warnings.warn(msg, FutureWarning)\n"
     ]
    },
    {
     "data": {
      "text/plain": [
       "<Figure size 4000x800 with 0 Axes>"
      ]
     },
     "metadata": {},
     "output_type": "display_data"
    },
    {
     "data": {
      "image/png": "[encoded data removed]",
      "text/plain": [
       "<Figure size 432x288 with 4 Axes>"
      ]
     },
     "metadata": {
      "needs_background": "light"
     },
     "output_type": "display_data"
    }
   ],
   "source": [
    "from sklearn import datasets\n",
    "import seaborn as sns\n",
    "from sklearn.ensemble import RandomForestClassifier\n",
    "import pandas as pd\n",
    "import matplotlib.pyplot as plt\n",
    "from matplotlib.pyplot import figure\n",
    "\n",
    "# Loading the iris plants dataset (classification)\n",
    "iris = datasets.load_iris()\n",
    "\n",
    "# creating dataframe of IRIS dataset\n",
    "data = pd.DataFrame({\"sepallength\": iris.data[:, 0], \"sepalwidth\": iris.data[:, 1],\n",
    "                     \"petallength\": iris.data[:, 2], \"petalwidth\": iris.data[:, 3],\n",
    "                     \"species\": iris.target})\n",
    "\n",
    "\n",
    "figure(figsize=(50, 10), dpi=80)\n",
    "\n",
    "fig, axes = plt.subplots(nrows=2, ncols=2)\n",
    "\n",
    "custom_xlim = (-2, 10)\n",
    "custom_ylim = (0, 1.2)\n",
    "plt.setp(axes, xlim=custom_xlim, ylim=custom_ylim)\n",
    "\n",
    "features=['sepallength','sepalwidth', 'petallength', 'petalwidth']\n",
    "sns.distplot(data[features[0]],bins=10, ax=axes[0,0])\n",
    "##axes[0, 0].set_title(features[0])\n",
    "\n",
    "sns.distplot(data[features[1]],bins=10, ax=axes[0,1])\n",
    "##axes[0, 1].set_title(features[1])\n",
    "\n",
    "sns.distplot(data[features[2]],bins=10, ax=axes[1,0])\n",
    "##axes[1, 0].set_title(features[2])\n",
    "\n",
    "sns.distplot(data[features[3]],bins=10, ax=axes[1,1])\n",
    "##axes[1, 1].set_title(features[3])\n",
    "\n",
    "plt.subplots_adjust(left=0.1,\n",
    "                    bottom=0.1, \n",
    "                    right=0.9, \n",
    "                    top=0.9, \n",
    "                    wspace=0.4, \n",
    "                    hspace=0.4)\n"
   ]
  },
  {
   "cell_type": "markdown",
   "id": "60672f3c",
   "metadata": {},
   "source": [
    "## Observations: \n",
    "\n",
    "1. Sepal length and width have unimodal distributions (single peak,limited fluctuations and well-defined)\n",
    "2. Petal length and width have bimodal distributions (2 peaks, many fluctuations and not well-defined)\n",
    "\n",
    "General understanding: Flower petals have higher heterogeneity in their shape.\n",
    "\n",
    "Now, we turn to the Random Forest Classfier to determine which feature classifies the Iris flower dataset in the best way. \n"
   ]
  },
  {
   "cell_type": "code",
   "execution_count": 7,
   "id": "2cb7800c",
   "metadata": {},
   "outputs": [
    {
     "name": "stdout",
     "output_type": "stream",
     "text": [
      "\n",
      "ACCURACY OF THE MODEL:  1.0\n"
     ]
    },
    {
     "data": {
      "text/plain": [
       "petal length (cm)    0.432837\n",
       "petal width (cm)     0.426125\n",
       "sepal length (cm)    0.111167\n",
       "sepal width (cm)     0.029870\n",
       "dtype: float64"
      ]
     },
     "execution_count": 7,
     "metadata": {},
     "output_type": "execute_result"
    }
   ],
   "source": [
    "# dividing the datasets into two parts i.e. training datasets and test datasets\n",
    "X, y = datasets.load_iris( return_X_y = True)\n",
    "\n",
    "# Spliting arrays or matrices into random train and test subsets\n",
    "from sklearn.model_selection import train_test_split\n",
    "# i.e. 70 % training dataset and 30 % test datasets\n",
    "X_train, X_test, y_train, y_test = train_test_split(X, y, test_size = 0.30)\n",
    "\n",
    "\n",
    "clf = RandomForestClassifier(n_estimators = 100)\n",
    "\n",
    "# Training the model on the training dataset\n",
    "# fit function is used to train the model using the training sets as parameters\n",
    "clf.fit(X_train, y_train)\n",
    "\n",
    "# performing predictions on the test dataset\n",
    "y_pred = clf.predict(X_test)\n",
    "\n",
    "# metrics are used to find accuracy or error\n",
    "from sklearn import metrics\n",
    "print()\n",
    "\n",
    "# using metrics module for accuracy calculation\n",
    "print(\"ACCURACY OF THE MODEL: \", metrics.accuracy_score(y_test, y_pred))\n",
    "\n",
    "from sklearn.ensemble import RandomForestClassifier\n",
    "# Create a Random forest Classifier\n",
    "clf = RandomForestClassifier(n_estimators = 100)\n",
    "\n",
    "# Train the model using the training sets\n",
    "clf.fit(X_train, y_train)\n",
    "import pandas as pd\n",
    "feature_imp = pd.Series(clf.feature_importances_, index = iris.feature_names).sort_values(ascending = False)\n",
    "feature_imp"
   ]
  },
  {
   "cell_type": "markdown",
   "id": "68b19693",
   "metadata": {},
   "source": [
    "## Observations from ML-Random Forest\n",
    "\n",
    "1. Model performs really well (90-100% accuracy)\n",
    "2. Petal dimensions are more useful in classifying the dataset in comparsion to sepal dimensions\n",
    "\n",
    "Is there a co-relation between the variance of the features and its importance?"
   ]
  },
  {
   "cell_type": "code",
   "execution_count": 8,
   "id": "901ad3f9",
   "metadata": {},
   "outputs": [
    {
     "name": "stdout",
     "output_type": "stream",
     "text": [
      "Variance of sepallength is 0.6856935123042507\n",
      "Variance of sepalwidth is 0.189979418344519\n",
      "Variance of petallength is 3.116277852348993\n",
      "Variance of petalwidth is 0.5810062639821029\n"
     ]
    }
   ],
   "source": [
    "for i in range(len(features)):\n",
    "\n",
    "    print(\"Variance of \" + str(features[i]) + ' is ' + str(data[features[i]].var()))"
   ]
  },
  {
   "cell_type": "markdown",
   "id": "19faf9cf",
   "metadata": {},
   "source": [
    "## Conclusion\n",
    "\n",
    "1. The petal length feature has the highest variance and is the most important feature for random forest classification.\n",
    "2. Although petal width has a smaller variance as compared to sepal length, it is a more important feature. \n",
    "Why? : The density distribution for petal width is bimodal. This could mean that this feature is sampling 2 different behaviors in the dataset, and hence serves as a superior classfier. \n",
    "    On the other hand, the sepal length feature has a unimodal distribiution. This could mean that it is sampling something which is the same for all of the 150 samples in the dataset."
   ]
  },
  {
   "cell_type": "code",
   "execution_count": null,
   "id": "c29551b8",
   "metadata": {},
   "outputs": [],
   "source": []
  }
 ],
 "metadata": {
  "kernelspec": {
   "display_name": "Python 3 (ipykernel)",
   "language": "python",
   "name": "python3"
  },
  "language_info": {
   "codemirror_mode": {
    "name": "ipython",
    "version": 3
   },
   "file_extension": ".py",
   "mimetype": "text/x-python",
   "name": "python",
   "nbconvert_exporter": "python",
   "pygments_lexer": "ipython3",
   "version": "3.8.10"
  }
 },
 "nbformat": 4,
 "nbformat_minor": 5
}
